{
 "cells": [
  {
   "cell_type": "markdown",
   "id": "4fbc09eb",
   "metadata": {},
   "source": [
    "# Stock Data Analysis\n",
    "\n",
    "This notebook analyzes stock market data using various machine learning models, providing insights into feature importance, correlations, and model performance."
   ]
  },
  {
   "cell_type": "markdown",
   "id": "dad53438",
   "metadata": {},
   "source": [
    "## Load Modules and Data"
   ]
  },
  {
   "cell_type": "code",
   "execution_count": 1,
   "id": "60815aa3",
   "metadata": {},
   "outputs": [
    {
     "ename": "ModuleNotFoundError",
     "evalue": "No module named 'modules'",
     "output_type": "error",
     "traceback": [
      "\u001b[0;31m---------------------------------------------------------------------------\u001b[0m",
      "\u001b[0;31mModuleNotFoundError\u001b[0m                       Traceback (most recent call last)",
      "Cell \u001b[0;32mIn[1], line 1\u001b[0m\n\u001b[0;32m----> 1\u001b[0m \u001b[38;5;28;01mfrom\u001b[39;00m \u001b[38;5;21;01mmodules\u001b[39;00m \u001b[38;5;28;01mimport\u001b[39;00m \u001b[38;5;241m*\u001b[39m\n\u001b[1;32m      2\u001b[0m \u001b[38;5;28;01mimport\u001b[39;00m \u001b[38;5;21;01mpandas\u001b[39;00m \u001b[38;5;28;01mas\u001b[39;00m \u001b[38;5;21;01mpd\u001b[39;00m\n\u001b[1;32m      3\u001b[0m \u001b[38;5;28;01mimport\u001b[39;00m \u001b[38;5;21;01mnumpy\u001b[39;00m \u001b[38;5;28;01mas\u001b[39;00m \u001b[38;5;21;01mnp\u001b[39;00m\n",
      "\u001b[0;31mModuleNotFoundError\u001b[0m: No module named 'modules'"
     ]
    }
   ],
   "source": [
    "\n",
    "from modules import *\n",
    "import pandas as pd\n",
    "import numpy as np\n"
   ]
  },
  {
   "cell_type": "markdown",
   "id": "fa53eddf",
   "metadata": {},
   "source": [
    "## Feature Importances Visualization"
   ]
  },
  {
   "cell_type": "markdown",
   "id": "1871dfc8",
   "metadata": {},
   "source": [
    "### Extract Feature Importances"
   ]
  },
  {
   "cell_type": "code",
   "execution_count": null,
   "id": "8677c3b4",
   "metadata": {},
   "outputs": [],
   "source": [
    "\n",
    "def plot_feature_importances(model, feature_names, title):\n",
    "    \"\"\"\n",
    "    Plots the feature importances for tree-based models.\n",
    "    \"\"\"\n",
    "    importances = model.feature_importances_\n",
    "    indices = np.argsort(importances)[::-1]\n",
    "\n",
    "    plt.figure(figsize=(12, 6))\n",
    "    plt.title(title)\n",
    "    plt.bar(range(len(importances)), importances[indices], align=\"center\")\n",
    "    plt.xticks(range(len(importances)), np.array(feature_names)[indices], rotation=90)\n",
    "    plt.show()\n"
   ]
  },
  {
   "cell_type": "markdown",
   "id": "05d41a72",
   "metadata": {},
   "source": [
    "### Feature Importances for XGBoost and RandomForest"
   ]
  },
  {
   "cell_type": "code",
   "execution_count": null,
   "id": "d2a4dc02",
   "metadata": {},
   "outputs": [],
   "source": [
    "\n",
    "# Example usage\n",
    "curr_prediction, models, feature_names, classification_reports = model('TSLA', '1d')\n",
    "\n",
    "for model_name, fitted_model in models.items():\n",
    "    if model_name in ['XGBoost', 'RandomForest']:\n",
    "        plot_feature_importances(fitted_model, feature_names, f\"{model_name} Feature Importances\")\n"
   ]
  },
  {
   "cell_type": "markdown",
   "id": "e02c85b0",
   "metadata": {},
   "source": [
    "## Correlation Matrix"
   ]
  },
  {
   "cell_type": "code",
   "execution_count": null,
   "id": "3be12bff",
   "metadata": {},
   "outputs": [],
   "source": [
    "\n",
    "def plot_correlation_matrix(data, title):\n",
    "    \"\"\"\n",
    "    Plots the correlation matrix heatmap.\n",
    "    \"\"\"\n",
    "    corr = data.corr()\n",
    "    plt.figure(figsize=(12, 10))\n",
    "    sns.heatmap(corr, annot=True, cmap='coolwarm', fmt='.2f', linewidths=0.5)\n",
    "    plt.title(title)\n",
    "    plt.show()\n",
    "\n",
    "# Load transformed data\n",
    "data = load_model_df('TSLA', '1d')\n",
    "plot_correlation_matrix(data, \"Feature Correlation Matrix\")\n"
   ]
  },
  {
   "cell_type": "markdown",
   "id": "3c5db5a0",
   "metadata": {},
   "source": [
    "## Model Performance Summary"
   ]
  },
  {
   "cell_type": "code",
   "execution_count": null,
   "id": "b8b47188",
   "metadata": {},
   "outputs": [],
   "source": [
    "\n",
    "# Generate summary table\n",
    "summary_table = predictions('TSLA')\n",
    "summary_table.head()\n"
   ]
  },
  {
   "cell_type": "markdown",
   "id": "28fb5ce7",
   "metadata": {},
   "source": [
    "### Visualize Model Performance"
   ]
  },
  {
   "cell_type": "code",
   "execution_count": null,
   "id": "699cc998",
   "metadata": {},
   "outputs": [],
   "source": [
    "\n",
    "def plot_model_performance(summary_table):\n",
    "    \"\"\"\n",
    "    Plots model performance metrics.\n",
    "    \"\"\"\n",
    "    metrics = ['precision', 'recall', 'f1']\n",
    "    for metric in metrics:\n",
    "        plt.figure(figsize=(8, 6))\n",
    "        sns.barplot(data=summary_table, x='model', y=metric)\n",
    "        plt.title(f\"Model {metric.capitalize()} Comparison\")\n",
    "        plt.xticks(rotation=45)\n",
    "        plt.show()\n",
    "\n",
    "# Visualize\n",
    "plot_model_performance(summary_table)\n"
   ]
  },
  {
   "cell_type": "markdown",
   "id": "9dc8b463",
   "metadata": {},
   "source": [
    "## Conclusions\n",
    "\n",
    "The analysis identifies the most significant features, highlights feature correlations, and evaluates model performance for stock market predictions."
   ]
  }
 ],
 "metadata": {
  "kernelspec": {
   "display_name": "Python 3 (ipykernel)",
   "language": "python",
   "name": "python3"
  },
  "language_info": {
   "codemirror_mode": {
    "name": "ipython",
    "version": 3
   },
   "file_extension": ".py",
   "mimetype": "text/x-python",
   "name": "python",
   "nbconvert_exporter": "python",
   "pygments_lexer": "ipython3",
   "version": "3.12.3"
  }
 },
 "nbformat": 4,
 "nbformat_minor": 5
}
