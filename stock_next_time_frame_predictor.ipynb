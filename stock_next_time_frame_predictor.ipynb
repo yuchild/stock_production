{
 "cells": [
  {
   "cell_type": "markdown",
   "id": "bc3c8ff7",
   "metadata": {},
   "source": [
    "## Build Functions for ELT"
   ]
  },
  {
   "cell_type": "code",
   "execution_count": 1,
   "id": "30a2670d",
   "metadata": {},
   "outputs": [],
   "source": [
    "# Install Requirments (Updated on 9/17/2024)\n",
    "# !pip3 install -r requirements.txt"
   ]
  },
  {
   "cell_type": "code",
   "execution_count": 16,
   "id": "b487bd51",
   "metadata": {},
   "outputs": [
    {
     "name": "stdout",
     "output_type": "stream",
     "text": [
      "The autoreload extension is already loaded. To reload it, use:\n",
      "  %reload_ext autoreload\n"
     ]
    }
   ],
   "source": [
    "import pandas as pd\n",
    "import numpy as np\n",
    "from yfinance import Ticker\n",
    "from pykalman import KalmanFilter\n",
    "\n",
    "from sklearn.model_selection import train_test_split, cross_val_score\n",
    "from sklearn.preprocessing import OneHotEncoder, StandardScaler\n",
    "from sklearn.compose import ColumnTransformer\n",
    "\n",
    "from sklearn.pipeline import Pipeline\n",
    "\n",
    "from xgboost import XGBClassifier\n",
    "from sklearn.neighbors import KNeighborsClassifier\n",
    "from sklearn.ensemble import RandomForestClassifier, GradientBoostingClassifier\n",
    "from sklearn.linear_model import LogisticRegression\n",
    "from sklearn.svm import SVC\n",
    "from lightgbm import LGBMClassifier\n",
    "from sklearn.neighbors import KNeighborsClassifier\n",
    "\n",
    "from sklearn.metrics import accuracy_score, precision_score, recall_score, f1_score, classification_report\n",
    "\n",
    "from sklearn.model_selection import cross_val_predict\n",
    "\n",
    "\n",
    "\n",
    "from src import functions as f\n",
    "\n",
    "%load_ext autoreload\n",
    "%autoreload 2"
   ]
  },
  {
   "cell_type": "code",
   "execution_count": 134,
   "id": "c5cc12b6",
   "metadata": {
    "scrolled": false
   },
   "outputs": [
    {
     "name": "stdout",
     "output_type": "stream",
     "text": [
      "Columns in X before preprocessing:\n",
      "Index(['top_z21', 'body_z21', 'bottom_z21', 'top_z21', 'body_z21',\n",
      "       'bottom_z21', 'pct_gap_up_down', 'ac_z5', 'ac_z8', 'ac_z13',\n",
      "       'kma_sma40_diff_z21', 'adj_close', 'day_of_month', 'day_of_week',\n",
      "       'hour_of_day'],\n",
      "      dtype='object')\n",
      "Model: XGBClassifier\n",
      "              precision    recall  f1-score   support\n",
      "\n",
      "           0       0.79      0.84      0.82       252\n",
      "           1       0.82      0.76      0.79       249\n",
      "           2       0.79      0.80      0.80       255\n",
      "\n",
      "    accuracy                           0.80       756\n",
      "   macro avg       0.80      0.80      0.80       756\n",
      "weighted avg       0.80      0.80      0.80       756\n",
      "\n",
      "Model: RandomForestClassifier\n",
      "              precision    recall  f1-score   support\n",
      "\n",
      "           0       0.73      0.76      0.75       252\n",
      "           1       0.71      0.81      0.76       249\n",
      "           2       0.83      0.69      0.76       255\n",
      "\n",
      "    accuracy                           0.75       756\n",
      "   macro avg       0.76      0.75      0.75       756\n",
      "weighted avg       0.76      0.75      0.75       756\n",
      "\n",
      "Model: GradientBoostingClassifier\n",
      "              precision    recall  f1-score   support\n",
      "\n",
      "           0       0.74      0.78      0.76       252\n",
      "           1       0.80      0.76      0.78       249\n",
      "           2       0.78      0.77      0.77       255\n",
      "\n",
      "    accuracy                           0.77       756\n",
      "   macro avg       0.77      0.77      0.77       756\n",
      "weighted avg       0.77      0.77      0.77       756\n",
      "\n",
      "Model: KNeighborsClassifier\n",
      "              precision    recall  f1-score   support\n",
      "\n",
      "           0       0.61      0.77      0.68       252\n",
      "           1       0.65      0.60      0.62       249\n",
      "           2       0.72      0.58      0.64       255\n",
      "\n",
      "    accuracy                           0.65       756\n",
      "   macro avg       0.66      0.65      0.65       756\n",
      "weighted avg       0.66      0.65      0.65       756\n",
      "\n"
     ]
    }
   ],
   "source": [
    "f.download('NVDA', '5m', '1mo')\n",
    "\n",
    "f.transform('NVDA', '5m', '1mo')\n",
    "\n",
    "curr_prediction, models, feature_names = f.model('NVDA', '5m')"
   ]
  },
  {
   "cell_type": "code",
   "execution_count": 135,
   "id": "c018e540",
   "metadata": {},
   "outputs": [],
   "source": [
    "predictions, prediction_probas = f.make_prediction(models, curr_prediction, feature_names)"
   ]
  },
  {
   "cell_type": "code",
   "execution_count": 136,
   "id": "effd2c77",
   "metadata": {},
   "outputs": [
    {
     "data": {
      "text/plain": [
       "{'XGBoost': np.int64(1),\n",
       " 'RandomForest': np.int64(1),\n",
       " 'GradientBoosting': np.int64(1),\n",
       " 'KNN': np.int64(1)}"
      ]
     },
     "execution_count": 136,
     "metadata": {},
     "output_type": "execute_result"
    }
   ],
   "source": [
    "predictions"
   ]
  },
  {
   "cell_type": "code",
   "execution_count": 137,
   "id": "1d59a89f",
   "metadata": {},
   "outputs": [
    {
     "data": {
      "text/plain": [
       "{'XGBoost': array([[0.2, 0.8, 0. ]]),\n",
       " 'RandomForest': array([[6.3683160e-02, 9.3613410e-01, 1.8270638e-04]], dtype=float32),\n",
       " 'GradientBoosting': array([[0.22071088, 0.72650992, 0.0527792 ]]),\n",
       " 'KNN': array([[0.30770789, 0.58909905, 0.10319305]])}"
      ]
     },
     "execution_count": 137,
     "metadata": {},
     "output_type": "execute_result"
    }
   ],
   "source": [
    "prediction_probas"
   ]
  },
  {
   "cell_type": "markdown",
   "id": "40c26ef2",
   "metadata": {},
   "source": [
    "## Kelly Criterion"
   ]
  },
  {
   "cell_type": "code",
   "execution_count": 7,
   "id": "66ada27b",
   "metadata": {},
   "outputs": [],
   "source": [
    "# fraction = p / l - q / g\n",
    "# p = probability of success\n",
    "# q = 1 - p = probability or failure\n",
    "# l = % loss (ex: $10 -> $9 would mean l = .1)\n",
    "# g = % gain (ex: $10 -> $12 would mean g = .2)\n",
    "\n",
    "def kelly_c(p, l, g): \n",
    "    return p / l - (1 - p) / g"
   ]
  },
  {
   "cell_type": "markdown",
   "id": "2d1fb54a",
   "metadata": {},
   "source": [
    "## Hyperparameter Searches"
   ]
  },
  {
   "cell_type": "code",
   "execution_count": 86,
   "id": "3a303ff0",
   "metadata": {},
   "outputs": [],
   "source": [
    "from sklearn.model_selection import GridSearchCV, RandomizedSearchCV, train_test_split\n",
    "from sklearn.metrics import classification_report\n",
    "from sklearn.preprocessing import OneHotEncoder\n",
    "from sklearn.compose import ColumnTransformer\n",
    "from sklearn.pipeline import Pipeline\n",
    "import pandas as pd\n",
    "import numpy as np\n",
    "\n",
    "def model(symbol, interval, search_type='none'):\n",
    "    # Load data\n",
    "    data = f.load_model_df(symbol, interval)\n",
    "    data.dropna(inplace=True, axis=0)\n",
    "    X = data.drop(columns=['direction'], axis=1)\n",
    "    y = data['direction']\n",
    "    \n",
    "    # Print column names to check for issues\n",
    "    print(\"Columns in X before preprocessing:\")\n",
    "    print(X.columns)\n",
    "    \n",
    "    # Remove duplicate columns\n",
    "    X = X.loc[:, ~X.columns.duplicated()]\n",
    "    \n",
    "    # Check if categorical_features are present in X\n",
    "    categorical_features = ['day_of_month', 'day_of_week', 'hour_of_day']\n",
    "    missing_features = [col for col in categorical_features if col not in X.columns]\n",
    "    if missing_features:\n",
    "        print(f\"Missing categorical features: {missing_features}\")\n",
    "    \n",
    "    # Store current prediction data (last row)\n",
    "    curr_prediction = X.iloc[-1].copy()\n",
    "\n",
    "    # Drop last row from X and y to prevent the model from seeing it\n",
    "    X = X.iloc[:-1]\n",
    "    y = y.iloc[:-1]\n",
    "    \n",
    "    # Create the categorical transformer\n",
    "    categorical_transformer = OneHotEncoder(handle_unknown='ignore', sparse_output=False)\n",
    "    \n",
    "    # Create the preprocessor\n",
    "    preprocessor = ColumnTransformer(\n",
    "        transformers=[\n",
    "            ('cat', categorical_transformer, categorical_features)\n",
    "        ],\n",
    "        force_int_remainder_cols=False # This will include all other columns in the transformed output\n",
    "    )\n",
    "    \n",
    "    # Define your models\n",
    "    models = {\n",
    "        'XGBoost': XGBClassifier(random_state=42, n_jobs=-1, learning_rate=0.1, max_depth=3, n_estimators=100),\n",
    "        'RandomForest': RandomForestClassifier(random_state=42, n_jobs=-1, max_depth=10, min_samples_split=2, n_estimators=200),\n",
    "        'GradientBoosting': GradientBoostingClassifier(random_state=42, learning_rate=0.5, max_depth=5, n_estimators=300, validation_fraction=0.3, n_iter_no_change=31),\n",
    "        # 'LightGBM': LGBMClassifier(random_state=42,force_col_wise=True),\n",
    "        'KNN': KNeighborsClassifier(n_neighbors=7, p=1,weights='distance')\n",
    "    }\n",
    "    \n",
    "    # Hyperparameters to search\n",
    "    param_grids = {\n",
    "        'XGBoost': {\n",
    "            'classifier__n_estimators': [100, 200, 300],\n",
    "            'classifier__max_depth': [3, 5, 7, 9],\n",
    "            'classifier__learning_rate': [0.01, 0.1, 0.2, 0.3]\n",
    "        },\n",
    "        'RandomForest': {\n",
    "            'classifier__n_estimators': [100, 200, 300],\n",
    "            'classifier__max_depth': [None, 10, 20, 30],\n",
    "            'classifier__min_samples_split': [2, 5, 10, 13]\n",
    "        },\n",
    "        'GradientBoosting': {\n",
    "            'classifier__n_estimators': [100, 200, 300, 400],\n",
    "            'classifier__max_depth': [3, 5, 7, 13],\n",
    "            'classifier__learning_rate': [0.01, 0.1, 0.2, 0.5]\n",
    "        },\n",
    "        'KNN': {\n",
    "            'classifier__n_neighbors': [3, 5, 7, 13],\n",
    "            'classifier__weights': ['uniform', 'distance'],\n",
    "            'classifier__p': [1, 2]  # 1: Manhattan, 2: Euclidean\n",
    "        }\n",
    "    }\n",
    "    \n",
    "    # Create a function to get feature names after transformation\n",
    "    def get_feature_names_out(column_transformer):\n",
    "        feature_names = []\n",
    "        for name, transformer, columns in column_transformer.transformers_:\n",
    "            if transformer == 'drop' or transformer == 'passthrough':\n",
    "                if transformer == 'passthrough':\n",
    "                    feature_names.extend(columns)\n",
    "                continue\n",
    "            if hasattr(transformer, 'get_feature_names_out'):\n",
    "                names = transformer.get_feature_names_out(columns)\n",
    "                feature_names.extend(names)\n",
    "            else:\n",
    "                feature_names.extend(columns)\n",
    "        return feature_names\n",
    "    \n",
    "    # Split data before preprocessing to avoid data leakage\n",
    "    X_train, X_test, y_train, y_test = train_test_split(\n",
    "        X, y, stratify=y, test_size=0.2, random_state=42)\n",
    "    \n",
    "    # Fit the preprocessor on training data\n",
    "    preprocessor.fit(X_train)\n",
    "    \n",
    "    # Transform training and test data\n",
    "    X_train_transformed = preprocessor.transform(X_train)\n",
    "    X_test_transformed = preprocessor.transform(X_test)\n",
    "    \n",
    "    # Get feature names after transformation\n",
    "    feature_names = get_feature_names_out(preprocessor)\n",
    "    \n",
    "    # Convert transformed data to DataFrame\n",
    "    X_train_transformed = pd.DataFrame(X_train_transformed, columns=feature_names)\n",
    "    X_test_transformed = pd.DataFrame(X_test_transformed, columns=feature_names)\n",
    "    \n",
    "    # Transform curr_prediction\n",
    "    curr_prediction_transformed = preprocessor.transform(\n",
    "        curr_prediction.to_frame().T)\n",
    "    curr_prediction_transformed = pd.DataFrame(\n",
    "        curr_prediction_transformed, columns=feature_names)\n",
    "    \n",
    "    for model_name, model in models.items():\n",
    "        # Create a pipeline with the classifier\n",
    "        pipeline = Pipeline(steps=[\n",
    "            ('classifier', model)\n",
    "        ])\n",
    "        \n",
    "        # Get the parameter grid for the current model\n",
    "        param_grid = param_grids.get(model_name, {})\n",
    "        \n",
    "        # Use GridSearchCV or RandomizedSearchCV\n",
    "        if search_type == 'grid' and param_grid:\n",
    "            search = GridSearchCV(\n",
    "                pipeline, param_grid, cv=5, scoring='accuracy', n_jobs=-1)\n",
    "        elif search_type == 'random' and param_grid:\n",
    "            search = RandomizedSearchCV(\n",
    "                pipeline, param_grid, cv=5, scoring='accuracy',\n",
    "                n_jobs=-1, n_iter=10, random_state=42)\n",
    "        else:\n",
    "            search = pipeline\n",
    "        \n",
    "        # Fit the model\n",
    "        search.fit(X_train_transformed, y_train)\n",
    "        \n",
    "        # If using search, get the best estimator\n",
    "        if search_type in ['grid', 'random'] and param_grid:\n",
    "            best_model = search.best_estimator_\n",
    "            print(f\"Best parameters for {model_name}: {search.best_params_}\")\n",
    "            model = best_model.named_steps['classifier']\n",
    "        else:\n",
    "            model = search.named_steps['classifier']\n",
    "        \n",
    "        # Store the model\n",
    "        models[model_name] = model\n",
    "        \n",
    "        # Predict on test data\n",
    "        y_pred = search.predict(X_test_transformed)\n",
    "        \n",
    "        # Evaluate the model\n",
    "        print(f\"Model: {model_name}\")\n",
    "        print(classification_report(y_test, y_pred, zero_division=0))\n",
    "    \n",
    "    return curr_prediction_transformed, models, feature_names"
   ]
  },
  {
   "cell_type": "code",
   "execution_count": 138,
   "id": "3c358417",
   "metadata": {},
   "outputs": [
    {
     "name": "stdout",
     "output_type": "stream",
     "text": [
      "Columns in X before preprocessing:\n",
      "Index(['top_z21', 'body_z21', 'bottom_z21', 'top_z21', 'body_z21',\n",
      "       'bottom_z21', 'pct_gap_up_down', 'ac_z5', 'ac_z8', 'ac_z13',\n",
      "       'kma_sma40_diff_z21', 'adj_close', 'day_of_month', 'day_of_week',\n",
      "       'hour_of_day'],\n",
      "      dtype='object')\n",
      "Best parameters for XGBoost: {'classifier__learning_rate': 0.01, 'classifier__max_depth': 5, 'classifier__n_estimators': 100}\n",
      "Model: XGBoost\n",
      "              precision    recall  f1-score   support\n",
      "\n",
      "           0       0.60      0.50      0.55       263\n",
      "           1       0.38      0.72      0.50       246\n",
      "           2       0.49      0.14      0.21       247\n",
      "\n",
      "    accuracy                           0.46       756\n",
      "   macro avg       0.49      0.45      0.42       756\n",
      "weighted avg       0.49      0.46      0.42       756\n",
      "\n",
      "Best parameters for RandomForest: {'classifier__max_depth': 10, 'classifier__min_samples_split': 10, 'classifier__n_estimators': 300}\n",
      "Model: RandomForest\n",
      "              precision    recall  f1-score   support\n",
      "\n",
      "           0       0.57      0.57      0.57       263\n",
      "           1       0.39      0.43      0.41       246\n",
      "           2       0.42      0.37      0.40       247\n",
      "\n",
      "    accuracy                           0.46       756\n",
      "   macro avg       0.46      0.46      0.46       756\n",
      "weighted avg       0.46      0.46      0.46       756\n",
      "\n",
      "Best parameters for GradientBoosting: {'classifier__learning_rate': 0.01, 'classifier__max_depth': 7, 'classifier__n_estimators': 100}\n",
      "Model: GradientBoosting\n",
      "              precision    recall  f1-score   support\n",
      "\n",
      "           0       0.58      0.52      0.55       263\n",
      "           1       0.38      0.34      0.36       246\n",
      "           2       0.39      0.47      0.42       247\n",
      "\n",
      "    accuracy                           0.44       756\n",
      "   macro avg       0.45      0.44      0.44       756\n",
      "weighted avg       0.45      0.44      0.45       756\n",
      "\n"
     ]
    },
    {
     "name": "stderr",
     "output_type": "stream",
     "text": [
      "/home/oem/Documents/github/stock_production/pyenv/lib/python3.12/site-packages/numpy/ma/core.py:2881: RuntimeWarning: invalid value encountered in cast\n",
      "  _data = np.array(data, dtype=dtype, copy=copy,\n"
     ]
    },
    {
     "name": "stdout",
     "output_type": "stream",
     "text": [
      "Best parameters for KNN: {'classifier__n_neighbors': 7, 'classifier__p': 1, 'classifier__weights': 'uniform'}\n",
      "Model: KNN\n",
      "              precision    recall  f1-score   support\n",
      "\n",
      "           0       0.50      0.57      0.54       263\n",
      "           1       0.41      0.44      0.43       246\n",
      "           2       0.44      0.34      0.38       247\n",
      "\n",
      "    accuracy                           0.46       756\n",
      "   macro avg       0.45      0.45      0.45       756\n",
      "weighted avg       0.45      0.46      0.45       756\n",
      "\n"
     ]
    }
   ],
   "source": [
    "curr_prediction, models, feature_names = model('NVDA', '5m', 'grid')"
   ]
  },
  {
   "cell_type": "code",
   "execution_count": null,
   "id": "f11f7294",
   "metadata": {},
   "outputs": [],
   "source": []
  },
  {
   "cell_type": "code",
   "execution_count": null,
   "id": "d379dcfe",
   "metadata": {},
   "outputs": [],
   "source": []
  }
 ],
 "metadata": {
  "kernelspec": {
   "display_name": "pyenv",
   "language": "python",
   "name": "pyenv"
  },
  "language_info": {
   "codemirror_mode": {
    "name": "ipython",
    "version": 3
   },
   "file_extension": ".py",
   "mimetype": "text/x-python",
   "name": "python",
   "nbconvert_exporter": "python",
   "pygments_lexer": "ipython3",
   "version": "3.12.3"
  }
 },
 "nbformat": 4,
 "nbformat_minor": 5
}
